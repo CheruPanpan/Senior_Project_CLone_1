{
 "cells": [
  {
   "cell_type": "code",
   "execution_count": 1,
   "metadata": {},
   "outputs": [
    {
     "name": "stdout",
     "output_type": "stream",
     "text": [
      "บันทึกไฟล์ใหม่ที่: transaction.csv\n"
     ]
    }
   ],
   "source": [
    "import pandas as pd\n",
    "\n",
    "# โหลดไฟล์ CSV\n",
    "file_path = \"Transaction_19_to_24-2.csv\"  # แก้ไขเป็นชื่อไฟล์ของคุณ\n",
    "df = pd.read_csv(file_path)\n",
    "\n",
    "# แปลงคอลัมน์ 'BIBID' เป็น integer\n",
    "df['PatronID'] = pd.to_numeric(df['PatronID'], errors=\"coerce\").astype(\"Int64\")\n",
    "df['BIBID'] = pd.to_numeric(df['BIBID'], errors=\"coerce\").astype(\"Int64\")\n",
    "df['YEAR'] = pd.to_numeric(df['YEAR'], errors=\"coerce\").astype(\"Int64\")\n",
    "\n",
    "# บันทึกไฟล์ใหม่\n",
    "output_path = \"transaction.csv\"\n",
    "df.to_csv(output_path, index=False)\n",
    "\n",
    "print(f\"บันทึกไฟล์ใหม่ที่: {output_path}\")"
   ]
  }
 ],
 "metadata": {
  "kernelspec": {
   "display_name": "base",
   "language": "python",
   "name": "python3"
  },
  "language_info": {
   "codemirror_mode": {
    "name": "ipython",
    "version": 3
   },
   "file_extension": ".py",
   "mimetype": "text/x-python",
   "name": "python",
   "nbconvert_exporter": "python",
   "pygments_lexer": "ipython3",
   "version": "3.11.5"
  },
  "orig_nbformat": 4
 },
 "nbformat": 4,
 "nbformat_minor": 2
}
