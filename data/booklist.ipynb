{
 "cells": [
  {
   "cell_type": "code",
   "execution_count": 3,
   "metadata": {},
   "outputs": [
    {
     "name": "stdout",
     "output_type": "stream",
     "text": [
      "บันทึกไฟล์ใหม่ที่: converted_file.csv\n"
     ]
    }
   ],
   "source": [
    "import pandas as pd\n",
    "\n",
    "# โหลดไฟล์ CSV\n",
    "file_path = \"BookLists-2.csv\"  # แก้ไขเป็นชื่อไฟล์ของคุณ\n",
    "df = pd.read_csv(file_path)\n",
    "\n",
    "# แปลงคอลัมน์ 'BIBID' เป็น integer\n",
    "df['BIBID'] = pd.to_numeric(df['BIBID'], errors=\"coerce\").astype(\"Int64\")\n",
    "\n",
    "# แปลงคอลัมน์ 'Title', 'Author', 'Table of content', 'Subject' เป็น text\n",
    "df['Title'] = df['Title'].astype(str)\n",
    "df['Author'] = df['Author'].astype(str)\n",
    "df['Table of content'] = df['Table of content'].astype(str)\n",
    "df['Subject'] = df['Subject'].astype(str)\n",
    "\n",
    "# บันทึกไฟล์ใหม่\n",
    "output_path = \"converted_file.csv\"\n",
    "df.to_csv(output_path, index=False)\n",
    "\n",
    "print(f\"บันทึกไฟล์ใหม่ที่: {output_path}\")\n",
    "\n"
   ]
  },
  {
   "cell_type": "code",
   "execution_count": 4,
   "metadata": {},
   "outputs": [
    {
     "name": "stdout",
     "output_type": "stream",
     "text": [
      "<class 'pandas.core.frame.DataFrame'>\n",
      "RangeIndex: 171746 entries, 0 to 171745\n",
      "Data columns (total 5 columns):\n",
      " #   Column            Non-Null Count   Dtype \n",
      "---  ------            --------------   ----- \n",
      " 0   BIBID             171746 non-null  Int64 \n",
      " 1   Title             171746 non-null  object\n",
      " 2   Author            171746 non-null  object\n",
      " 3   Table of content  171746 non-null  object\n",
      " 4   Subject           171746 non-null  object\n",
      "dtypes: Int64(1), object(4)\n",
      "memory usage: 6.7+ MB\n"
     ]
    }
   ],
   "source": [
    "df.info()"
   ]
  },
  {
   "cell_type": "code",
   "execution_count": 11,
   "metadata": {},
   "outputs": [
    {
     "name": "stdout",
     "output_type": "stream",
     "text": [
      "พบค่าซ้ำในคู่ (BIBID, TITLE)\n",
      "ค่าที่ซ้ำกันในคู่ (BIBID, TITLE):\n",
      "          BIBID                                              Title  \\\n",
      "1223    1004345                                   Image processing   \n",
      "1224    1004345                                   Image processing   \n",
      "1470    1004839  Nonlinear regression analysis and its applicat...   \n",
      "1471    1004839  Nonlinear regression analysis and its applicat...   \n",
      "1824    1005468       Graphic standards for landscape architecture   \n",
      "...         ...                                                ...   \n",
      "169596  1238246                   สร้างเว็บสวยด้วย Dreamweaver CS3   \n",
      "170549  1290722  เหรียญกษาปณ์กรุงรัตนโกสินทร์ พ.ศ. 2542-2554 =C...   \n",
      "170550  1290722  เหรียญกษาปณ์กรุงรัตนโกสินทร์ พ.ศ. 2542-2554 =C...   \n",
      "171436  1385880                                    พระมหาสมณนิพนธ์   \n",
      "171437  1385880                                    พระมหาสมณนิพนธ์   \n",
      "\n",
      "                                                   Author  \\\n",
      "1223                                         Pearson, Don   \n",
      "1224                                         Pearson, Don   \n",
      "1470                   Bates, Douglas M / Watts, Donald G   \n",
      "1471                   Bates, Douglas M / Watts, Donald G   \n",
      "1824     Austin, Richard L / Dunbar, Thomas R / Hulver...   \n",
      "...                                                   ...   \n",
      "169596                                                nan   \n",
      "170549                                                nan   \n",
      "170550                                                nan   \n",
      "171436                                                nan   \n",
      "171437                                                nan   \n",
      "\n",
      "                                         Table of content  \\\n",
      "1223                                                  Ref   \n",
      "1224    Image-processing theories -- Motion and motion...   \n",
      "1470                                                  Ref   \n",
      "1471    Review of linear regression -- Nonlinear regre...   \n",
      "1824    Site design systems -- Recreation systems -- S...   \n",
      "...                                                   ...   \n",
      "169596  เตรียมตัวก่อนสร้างเ็ว็บ -- รู้จักโปรแกรม Dream...   \n",
      "170549  เหรียญกษาปณ์หมุนเวียนพระบรมรูปรัชกาลที่ 9-พระป...   \n",
      "170550  เหรียญที่ระลึกปีผู้สูงอายุสากล พ.ศ. 2542 -- เห...   \n",
      "171436  สูจิบัตร งานพระมหาสมณานุสรณ์ -- เล่ม 1: พระประ...   \n",
      "171437  เล่ม 16: ธรรมเนียมเกี่ยวกับการพระศาสนา และการค...   \n",
      "\n",
      "                                                  Subject  \n",
      "1223                    Image processing, Imaging systems  \n",
      "1224                    Image processing, Imaging systems  \n",
      "1470    Regression analysis, Linear models (Statistics...  \n",
      "1471    Regression analysis, Linear models (Statistics...  \n",
      "1824                    Landscape architectural standards  \n",
      "...                                                   ...  \n",
      "169596  Dreamweaver (Computer program), ดรีดรีมวีเวอร์...  \n",
      "170549  ธนบัตร, เหรียญกษาปณ์, เหรียญที่ระลึก, หนังสือท...  \n",
      "170550  ธนบัตร, เหรียญกษาปณ์, เหรียญที่ระลึก, หนังสือท...  \n",
      "171436  สมเด็จพระสังฆราช, พุทธศาสนา, หนังสือที่ระลึก, ...  \n",
      "171437  สมเด็จพระสังฆราช, พุทธศาสนา, หนังสือที่ระลึก, ...  \n",
      "\n",
      "[272 rows x 5 columns]\n"
     ]
    }
   ],
   "source": [
    "# ตรวจสอบว่าค่าทั้งหมดในคู่ (BIBID, TITLE) เป็นค่าเฉพาะหรือไม่\n",
    "is_unique = df.duplicated(subset=['BIBID', 'Title']).sum() == 0\n",
    "\n",
    "if is_unique:\n",
    "    print(\"คู่ (BIBID, TITLE) ไม่มีค่าซ้ำกัน (Unique)\")\n",
    "else:\n",
    "    print(\"พบค่าซ้ำในคู่ (BIBID, TITLE)\")\n",
    "\n",
    "    # แสดงค่าที่ซ้ำกัน\n",
    "    duplicates = df[df.duplicated(subset=['BIBID', 'Title'], keep=False)]\n",
    "    print(\"ค่าที่ซ้ำกันในคู่ (BIBID, TITLE):\")\n",
    "    print(duplicates)"
   ]
  },
  {
   "cell_type": "code",
   "execution_count": 6,
   "metadata": {},
   "outputs": [
    {
     "data": {
      "text/plain": [
       "False"
      ]
     },
     "execution_count": 6,
     "metadata": {},
     "output_type": "execute_result"
    }
   ],
   "source": [
    "df['BIBID'].is_unique"
   ]
  },
  {
   "cell_type": "code",
   "execution_count": 13,
   "metadata": {},
   "outputs": [
    {
     "name": "stdout",
     "output_type": "stream",
     "text": [
      "บันทึกไฟล์ใหม่ที่: unique_booklist.csv\n"
     ]
    }
   ],
   "source": [
    "df_unique = df.drop_duplicates(subset=['BIBID', 'Title'], keep='first')\n",
    "\n",
    "# บันทึกไฟล์ใหม่\n",
    "output_path = \"unique_booklist.csv\"\n",
    "df_unique.to_csv(output_path, index=False)\n",
    "\n",
    "print(f\"บันทึกไฟล์ใหม่ที่: {output_path}\")"
   ]
  },
  {
   "cell_type": "code",
   "execution_count": null,
   "metadata": {},
   "outputs": [],
   "source": []
  }
 ],
 "metadata": {
  "kernelspec": {
   "display_name": "base",
   "language": "python",
   "name": "python3"
  },
  "language_info": {
   "codemirror_mode": {
    "name": "ipython",
    "version": 3
   },
   "file_extension": ".py",
   "mimetype": "text/x-python",
   "name": "python",
   "nbconvert_exporter": "python",
   "pygments_lexer": "ipython3",
   "version": "3.11.5"
  },
  "orig_nbformat": 4
 },
 "nbformat": 4,
 "nbformat_minor": 2
}
